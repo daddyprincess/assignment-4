{
 "cells": [
  {
   "cell_type": "markdown",
   "id": "f6b2c33f-3e7d-4492-b4a9-4814344dddd0",
   "metadata": {},
   "source": [
    "## 1.lambda function\n"
   ]
  },
  {
   "cell_type": "code",
   "execution_count": 7,
   "id": "a127ff8f-3526-45f8-8832-0490cf46ee4d",
   "metadata": {},
   "outputs": [
    {
     "data": {
      "text/plain": [
       "<function __main__.<lambda>(data)>"
      ]
     },
     "execution_count": 7,
     "metadata": {},
     "output_type": "execute_result"
    }
   ],
   "source": [
    "#create tuples with circket members and\n",
    "#name and store in a list\n",
    "#lambda function\n",
    "data = [('sachin tendulkar',34357),('ricky pointing',27483),('jack kallias',25534),('virat kohli',24936)]\n",
    "#display data\n",
    "data\n",
    "lambda data :circket\n",
    "\n"
   ]
  },
  {
   "cell_type": "markdown",
   "id": "9870b5c2-116f-472e-a479-913d6c885fac",
   "metadata": {},
   "source": [
    "## 2.lambda and map functions"
   ]
  },
  {
   "cell_type": "code",
   "execution_count": 20,
   "id": "88eaad49-995c-431a-b8f6-589d4e8e7146",
   "metadata": {},
   "outputs": [
    {
     "data": {
      "text/plain": [
       "[1, 4, 9, 16, 25, 36, 49, 64, 81, 100]"
      ]
     },
     "execution_count": 20,
     "metadata": {},
     "output_type": "execute_result"
    }
   ],
   "source": [
    "l = [1,2,3,4,5,6,7,8,9,10]\n",
    "    \n",
    "list(map(lambda l: l**2, l))\n",
    "\n"
   ]
  },
  {
   "cell_type": "markdown",
   "id": "a7ee36eb-71d6-4a11-9e52-9f8ec79f2dee",
   "metadata": {},
   "source": [
    "## 3.lambda"
   ]
  },
  {
   "cell_type": "code",
   "execution_count": 10,
   "id": "87c10d2d-04b8-437c-83ec-3ac5f1449dd5",
   "metadata": {},
   "outputs": [
    {
     "name": "stdout",
     "output_type": "stream",
     "text": [
      "('1', '2', '3', '4', '5', '6', '7', '8', '9', '10')\n",
      "[1, 2, 3, 4, 5, 6, 7, 8, 9, 10]\n"
     ]
    }
   ],
   "source": [
    "list = [1,2,3,4,5,6,7,8,9,10]\n",
    "#tuple of string\n",
    "tuple = (\"1\",\"2\",\"3\",\"4\",\"5\",\"6\",\"7\",\"8\",\"9\",\"10\")\n",
    "print ( tuple)\n",
    "#map and lambda function\n",
    "list = [1,2,3,4,5,6,7,8,9,10]\n",
    "(map(lambda x:x*2,list))\n",
    "print(list)"
   ]
  },
  {
   "cell_type": "markdown",
   "id": "ea4e0086-bb0f-42a2-b91c-22d492cb321a",
   "metadata": {},
   "source": [
    "## 4.reduce function"
   ]
  },
  {
   "cell_type": "code",
   "execution_count": null,
   "id": "7c324e63-d92e-437a-8cb1-7f3a88f64488",
   "metadata": {},
   "outputs": [],
   "source": [
    "reduce() is a function that implements a mathematical technique called folding or reduce.\n",
    "The reduce (fun,seq) function is used to apply a particular function passed in its argument to all of the list elements \n",
    "mentioned in the sequence passed along. This function is defined in \"functools\" module."
   ]
  },
  {
   "cell_type": "code",
   "execution_count": 12,
   "id": "e347d2de-44ee-4d16-a6b7-a02c72fddb94",
   "metadata": {},
   "outputs": [
    {
     "name": "stdout",
     "output_type": "stream",
     "text": [
      "the sum of the list elements is: 15\n",
      "the maximum element  of the list is : 5\n"
     ]
    }
   ],
   "source": [
    "#python code to demonstrate working to reduce()\n",
    "# importing functools for reduce()\n",
    "import functools\n",
    "#intializing list\n",
    "list = [1,2,3,4,5]\n",
    "#using reduce to compute sum of list\n",
    "print(\"the sum of the list elements is:\",end=\" \")\n",
    "print(functools.reduce(lambda a,b:a+b,list))\n",
    "#using reduce to compute maximum element from the list \n",
    "print(\"the maximum element  of the list is :\",end=\" \")\n",
    "print(functools.reduce(lambda a,b:a if a>b else b,list))"
   ]
  },
  {
   "cell_type": "markdown",
   "id": "e09e360f-bb58-44ee-8c7a-f2d490ba6fc5",
   "metadata": {},
   "source": [
    "## 5.filter function"
   ]
  },
  {
   "cell_type": "code",
   "execution_count": 22,
   "id": "4e5a7233-43a0-4917-bf57-5477e58c2034",
   "metadata": {},
   "outputs": [
    {
     "name": "stdout",
     "output_type": "stream",
     "text": [
      "numbers divisible by 2 and 3 are <filter object at 0x7ff0a5807df0>\n"
     ]
    }
   ],
   "source": [
    "#take a list of nnumbers\n",
    "my_list = [2,3,6,9,27,60,120,55,46]\n",
    "\n",
    "#use anonymous function to filter\n",
    "result = (filter(lambda x: (x % 2 == 0), my_list))\n",
    "result = (filter(lambda x: (x & 3 == 0), my_list))\n",
    "#display the result\n",
    "print(\"numbers divisible by 2 and 3 are\",result)"
   ]
  },
  {
   "cell_type": "markdown",
   "id": "a9315480-0704-4a70-90d6-72e7c93952c0",
   "metadata": {},
   "source": [
    "## 6.lambda and filter function"
   ]
  },
  {
   "cell_type": "code",
   "execution_count": 2,
   "id": "0637a9a9-864b-4ffa-8146-6a67c803aa6a",
   "metadata": {},
   "outputs": [
    {
     "name": "stdout",
     "output_type": "stream",
     "text": [
      "original list of strings:\n",
      "['python', 'php', 'aba', 'radar', 'level']\n",
      "\n",
      "list of palindroms:\n",
      "[]\n"
     ]
    }
   ],
   "source": [
    "texts = ['python','php','aba','radar','level']\n",
    "print(\"original list of strings:\")\n",
    "print (texts)\n",
    "result = list(filter(lambda x:(x ==' '.join(reversed(x))),texts))\n",
    "print(\"\\nlist of palindroms:\")\n",
    "print(result)"
   ]
  }
 ],
 "metadata": {
  "kernelspec": {
   "display_name": "Python 3 (ipykernel)",
   "language": "python",
   "name": "python3"
  },
  "language_info": {
   "codemirror_mode": {
    "name": "ipython",
    "version": 3
   },
   "file_extension": ".py",
   "mimetype": "text/x-python",
   "name": "python",
   "nbconvert_exporter": "python",
   "pygments_lexer": "ipython3",
   "version": "3.10.8"
  }
 },
 "nbformat": 4,
 "nbformat_minor": 5
}
